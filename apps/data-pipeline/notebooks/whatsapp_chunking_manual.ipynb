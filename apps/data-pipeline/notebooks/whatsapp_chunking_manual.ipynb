{
 "cells": [
  {
   "cell_type": "code",
   "execution_count": null,
   "metadata": {},
   "outputs": [],
   "source": [
    "from pathlib import Path\n",
    "import polars as pl\n",
    "from dtale import show\n",
    "import dtale.global_state as global_state\n",
    "\n",
    "global_state.set_app_settings(dict(max_column_width=300))\n",
    "\n",
    "data_dir = Path().absolute() / \"..\" / \"data\""
   ]
  },
  {
   "cell_type": "code",
   "execution_count": null,
   "metadata": {},
   "outputs": [],
   "source": [
    "df = pl.read_parquet(data_dir / \"dagster/parsed_whatsapp_conversations/cm0i27jdj0000aqpa73ghpcxf.snappy\")\n",
    "show(df.to_pandas()).open_browser()\n"
   ]
  },
  {
   "cell_type": "code",
   "execution_count": null,
   "metadata": {},
   "outputs": [],
   "source": [
    "\n",
    "messages_df = df.filter(pl.col(\"from\").eq(\"Estela\") | pl.col(\"to\").eq(\"Estela\")).with_columns(\n",
    "    msg=pl.concat_str(\n",
    "        [\n",
    "            pl.lit(\"From: \"),\n",
    "            pl.col(\"from\"),\n",
    "            pl.lit(\", To: \"),\n",
    "            pl.col(\"to\"),\n",
    "            pl.lit(\", Date: \"),\n",
    "            pl.col(\"datetime\").dt.strftime(\"%Y-%m-%d %H:%M:%S\"),\n",
    "            pl.lit(\", Content: \"),\n",
    "            pl.col(\"content\"),\n",
    "        ]\n",
    "    ).alias(\"msg\"),\n",
    "    date=pl.col(\"datetime\").dt.date()\n",
    ")\n",
    "\n",
    "# Group and iterate by date\n",
    "for date in messages_df.get_column(\"date\").unique().sort():\n",
    "    print(f\"\\n=== Messages from {date} ===\\n\")\n",
    "    \n",
    "    daily_messages = messages_df.filter(pl.col(\"date\") == date).get_column(\"msg\").to_list()\n",
    "    for msg in daily_messages:\n",
    "        print(msg)\n",
    "    \n",
    "    print(\"-\" * 100)\n"
   ]
  },
  {
   "cell_type": "code",
   "execution_count": null,
   "metadata": {},
   "outputs": [],
   "source": []
  }
 ],
 "metadata": {
  "kernelspec": {
   "display_name": ".venv",
   "language": "python",
   "name": "python3"
  },
  "language_info": {
   "codemirror_mode": {
    "name": "ipython",
    "version": 3
   },
   "file_extension": ".py",
   "mimetype": "text/x-python",
   "name": "python",
   "nbconvert_exporter": "python",
   "pygments_lexer": "ipython3",
   "version": "3.12.7"
  }
 },
 "nbformat": 4,
 "nbformat_minor": 2
}