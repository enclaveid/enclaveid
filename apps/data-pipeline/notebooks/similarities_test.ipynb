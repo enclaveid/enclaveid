{
 "cells": [
  {
   "cell_type": "code",
   "execution_count": null,
   "metadata": {},
   "outputs": [],
   "source": [
    "from sentence_transformers import SentenceTransformer\n",
    "\n",
    "model = SentenceTransformer(\"nvidia/NV-Embed-v2\", trust_remote_code=True)\n",
    "model.max_seq_length = 32768\n",
    "model.tokenizer.padding_side = \"right\""
   ]
  },
  {
   "cell_type": "code",
   "execution_count": null,
   "metadata": {},
   "outputs": [],
   "source": [
    "def get_embeddings(texts):\n",
    "    padded_texts = [i + model.tokenizer.eos_token for i in texts]\n",
    "\n",
    "    embeddings = model.encode(\n",
    "        padded_texts,\n",
    "        normalize_embeddings=True,\n",
    "        batch_size=1,\n",
    "    )\n",
    "    \n",
    "    return embeddings.tolist()\n"
   ]
  },
  {
   "cell_type": "code",
   "execution_count": null,
   "metadata": {},
   "outputs": [],
   "source": [
    "import faiss\n",
    "import numpy as np\n",
    "\n",
    "def get_similarities(query_embedding, embeddings):\n",
    "\n",
    "    query_embedding = np.array(query_embedding, dtype=np.float32).reshape(1, -1)\n",
    "    embeddings = np.array(embeddings, dtype=np.float32)\n",
    "\n",
    "    dimension = embeddings.shape[1]\n",
    "    index = faiss.IndexFlatIP(dimension)\n",
    "    index.add(embeddings)  # type: ignore\n",
    "\n",
    "    scores, indices = index.search(query_embedding, len(embeddings))  # type: ignore\n",
    "\n",
    "    return scores, indices\n"
   ]
  },
  {
   "cell_type": "code",
   "execution_count": null,
   "metadata": {},
   "outputs": [],
   "source": [
    "query_text = \"arguments with Estela, emotional tension, unresolved conflicts, recent disagreements\"\n",
    "texts = [\n",
    "    \"Estela is a curious person who seeks to understand the design of her work environment.\",\n",
    "    \"Giovanni and Estela are resolving a recent conflict\",\n",
    "    \"Giovanni and Estela had a disagreement the previous day\"\n",
    "]\n",
    "\n",
    "query_embedding = get_embeddings([query_text])[0]\n",
    "embeddings = get_embeddings(texts)\n",
    "\n",
    "scores, indices = get_similarities(query_embedding, embeddings)\n",
    "\n",
    "print(scores)\n",
    "print(indices)"
   ]
  },
  {
   "cell_type": "code",
   "execution_count": null,
   "metadata": {},
   "outputs": [],
   "source": []
  }
 ],
 "metadata": {
  "kernelspec": {
   "display_name": ".venv",
   "language": "python",
   "name": "python3"
  },
  "language_info": {
   "codemirror_mode": {
    "name": "ipython",
    "version": 3
   },
   "file_extension": ".py",
   "mimetype": "text/x-python",
   "name": "python",
   "nbconvert_exporter": "python",
   "pygments_lexer": "ipython3",
   "version": "3.12.7"
  }
 },
 "nbformat": 4,
 "nbformat_minor": 2
}