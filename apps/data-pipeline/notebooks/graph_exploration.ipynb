{
 "cells": [
  {
   "cell_type": "code",
   "execution_count": null,
   "metadata": {},
   "outputs": [],
   "source": [
    "import networkx as nx\n",
    "from pathlib import Path\n",
    "\n",
    "data_dir = Path().absolute() / \"..\" / \"data\"\n",
    "\n",
    "graphml_file = (data_dir / \"dagster/whatsapp_claims_deduplicated/cm0i27jdj0000aqpa73ghpcxf.graphml\")\n",
    "\n",
    "G = nx.read_graphml(graphml_file)\n"
   ]
  },
  {
   "cell_type": "code",
   "execution_count": null,
   "metadata": {},
   "outputs": [],
   "source": [
    "# Find shortest path between two nodes\n",
    "nx.shortest_path(G, source=\"emotional_vulnerability\", target=\"context_misaligned_expectations\")"
   ]
  },
  {
   "cell_type": "code",
   "execution_count": null,
   "metadata": {},
   "outputs": [],
   "source": []
  }
 ],
 "metadata": {
  "kernelspec": {
   "display_name": ".venv",
   "language": "python",
   "name": "python3"
  },
  "language_info": {
   "codemirror_mode": {
    "name": "ipython",
    "version": 3
   },
   "file_extension": ".py",
   "mimetype": "text/x-python",
   "name": "python",
   "nbconvert_exporter": "python",
   "pygments_lexer": "ipython3",
   "version": "3.12.7"
  }
 },
 "nbformat": 4,
 "nbformat_minor": 2
}