{
 "cells": [
  {
   "cell_type": "code",
   "execution_count": null,
   "metadata": {},
   "outputs": [],
   "source": [
    "%pip install altair"
   ]
  },
  {
   "cell_type": "code",
   "execution_count": null,
   "metadata": {},
   "outputs": [],
   "source": [
    "from pathlib import Path\n",
    "import polars as pl\n",
    "from dtale import show\n",
    "import dtale.global_state as global_state\n",
    "\n",
    "global_state.set_app_settings(dict(max_column_width=300))\n",
    "\n",
    "data_dir = Path().absolute() / \"..\" / \"data\"\n",
    "df = pl.read_parquet(data_dir / \"dagster/whatsapp_chunks_rechunked/00393494197577/0034689896443.snappy\").sort(\"datetime\")\n"
   ]
  },
  {
   "cell_type": "code",
   "execution_count": null,
   "metadata": {},
   "outputs": [],
   "source": [
    "show(df.to_pandas())"
   ]
  },
  {
   "cell_type": "code",
   "execution_count": null,
   "metadata": {},
   "outputs": [],
   "source": [
    "\n",
    "import altair as alt\n",
    "\n",
    "# Create the time series plot\n",
    "chart = alt.Chart(df.to_pandas()).mark_line().encode(\n",
    "    x='datetime:T',\n",
    "    y='chunk_sentiment:Q',\n",
    "    tooltip=['datetime', 'chunk_sentiment','content', 'chunk_id']\n",
    ").properties(\n",
    "    width=800,\n",
    "    height=400,\n",
    "    title='Sentiment Over Time'\n",
    ")\n",
    "chart\n"
   ]
  }
 ],
 "metadata": {
  "kernelspec": {
   "display_name": ".venv",
   "language": "python",
   "name": "python3"
  },
  "language_info": {
   "codemirror_mode": {
    "name": "ipython",
    "version": 3
   },
   "file_extension": ".py",
   "mimetype": "text/x-python",
   "name": "python",
   "nbconvert_exporter": "python",
   "pygments_lexer": "ipython3",
   "version": "3.12.7"
  }
 },
 "nbformat": 4,
 "nbformat_minor": 2
}